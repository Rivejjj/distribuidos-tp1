{
 "cells": [
  {
   "cell_type": "code",
   "execution_count": 1,
   "metadata": {
    "metadata": {}
   },
   "outputs": [],
   "source": [
    "import pandas as pd\n",
    "import numpy as np\n",
    "\n",
    "\n",
    "books = pd.read_csv(r\"data/books_data.csv\")\n",
    "reviews = pd.read_csv(r\"data/Books_rating.csv\")\n"
   ]
  },
  {
   "cell_type": "code",
   "execution_count": 4,
   "metadata": {
    "metadata": {}
   },
   "outputs": [],
   "source": [
    "import re\n",
    "import os"
   ]
  },
  {
   "cell_type": "code",
   "execution_count": 2,
   "metadata": {
    "metadata": {}
   },
   "outputs": [],
   "source": [
    "books = books.head(55000)\n",
    "reviews = reviews.head(15000)\n"
   ]
  },
  {
   "cell_type": "code",
   "execution_count": 21,
   "metadata": {
    "metadata": {}
   },
   "outputs": [
    {
     "data": {
      "text/html": [
       "<div>\n",
       "<style scoped>\n",
       "    .dataframe tbody tr th:only-of-type {\n",
       "        vertical-align: middle;\n",
       "    }\n",
       "\n",
       "    .dataframe tbody tr th {\n",
       "        vertical-align: top;\n",
       "    }\n",
       "\n",
       "    .dataframe thead th {\n",
       "        text-align: right;\n",
       "    }\n",
       "</style>\n",
       "<table border=\"1\" class=\"dataframe\">\n",
       "  <thead>\n",
       "    <tr style=\"text-align: right;\">\n",
       "      <th></th>\n",
       "      <th>Title</th>\n",
       "      <th>description</th>\n",
       "      <th>authors</th>\n",
       "      <th>image</th>\n",
       "      <th>previewLink</th>\n",
       "      <th>publisher</th>\n",
       "      <th>publishedDate</th>\n",
       "      <th>infoLink</th>\n",
       "      <th>categories</th>\n",
       "      <th>ratingsCount</th>\n",
       "    </tr>\n",
       "  </thead>\n",
       "  <tbody>\n",
       "    <tr>\n",
       "      <th>0</th>\n",
       "      <td>Its Only Art If Its Well Hung!</td>\n",
       "      <td>NaN</td>\n",
       "      <td>['Julie Strain']</td>\n",
       "      <td>http://books.google.com/books/content?id=DykPA...</td>\n",
       "      <td>http://books.google.nl/books?id=DykPAAAACAAJ&amp;d...</td>\n",
       "      <td>NaN</td>\n",
       "      <td>1996</td>\n",
       "      <td>http://books.google.nl/books?id=DykPAAAACAAJ&amp;d...</td>\n",
       "      <td>['Comics &amp; Graphic Novels']</td>\n",
       "      <td>NaN</td>\n",
       "    </tr>\n",
       "    <tr>\n",
       "      <th>1</th>\n",
       "      <td>Dr. Seuss: American Icon</td>\n",
       "      <td>Philip Nel takes a fascinating look into the k...</td>\n",
       "      <td>['Philip Nel']</td>\n",
       "      <td>http://books.google.com/books/content?id=IjvHQ...</td>\n",
       "      <td>http://books.google.nl/books?id=IjvHQsCn_pgC&amp;p...</td>\n",
       "      <td>A&amp;C Black</td>\n",
       "      <td>2005-01-01</td>\n",
       "      <td>http://books.google.nl/books?id=IjvHQsCn_pgC&amp;d...</td>\n",
       "      <td>['Biography &amp; Autobiography']</td>\n",
       "      <td>NaN</td>\n",
       "    </tr>\n",
       "  </tbody>\n",
       "</table>\n",
       "</div>"
      ],
      "text/plain": [
       "                            Title  \\\n",
       "0  Its Only Art If Its Well Hung!   \n",
       "1        Dr. Seuss: American Icon   \n",
       "\n",
       "                                         description           authors  \\\n",
       "0                                                NaN  ['Julie Strain']   \n",
       "1  Philip Nel takes a fascinating look into the k...    ['Philip Nel']   \n",
       "\n",
       "                                               image  \\\n",
       "0  http://books.google.com/books/content?id=DykPA...   \n",
       "1  http://books.google.com/books/content?id=IjvHQ...   \n",
       "\n",
       "                                         previewLink  publisher publishedDate  \\\n",
       "0  http://books.google.nl/books?id=DykPAAAACAAJ&d...        NaN          1996   \n",
       "1  http://books.google.nl/books?id=IjvHQsCn_pgC&p...  A&C Black    2005-01-01   \n",
       "\n",
       "                                            infoLink  \\\n",
       "0  http://books.google.nl/books?id=DykPAAAACAAJ&d...   \n",
       "1  http://books.google.nl/books?id=IjvHQsCn_pgC&d...   \n",
       "\n",
       "                      categories  ratingsCount  \n",
       "0    ['Comics & Graphic Novels']           NaN  \n",
       "1  ['Biography & Autobiography']           NaN  "
      ]
     },
     "execution_count": 21,
     "metadata": {},
     "output_type": "execute_result"
    }
   ],
   "source": [
    "books.head(2)"
   ]
  },
  {
   "cell_type": "code",
   "execution_count": 27,
   "metadata": {
    "metadata": {}
   },
   "outputs": [
    {
     "data": {
      "text/html": [
       "<div>\n",
       "<style scoped>\n",
       "    .dataframe tbody tr th:only-of-type {\n",
       "        vertical-align: middle;\n",
       "    }\n",
       "\n",
       "    .dataframe tbody tr th {\n",
       "        vertical-align: top;\n",
       "    }\n",
       "\n",
       "    .dataframe thead th {\n",
       "        text-align: right;\n",
       "    }\n",
       "</style>\n",
       "<table border=\"1\" class=\"dataframe\">\n",
       "  <thead>\n",
       "    <tr style=\"text-align: right;\">\n",
       "      <th></th>\n",
       "      <th>Title</th>\n",
       "      <th>authors</th>\n",
       "      <th>publisher</th>\n",
       "      <th>categories</th>\n",
       "      <th>publishedDate</th>\n",
       "      <th>publishedYear</th>\n",
       "      <th>publishedDecade</th>\n",
       "    </tr>\n",
       "  </thead>\n",
       "  <tbody>\n",
       "    <tr>\n",
       "      <th>948</th>\n",
       "      <td>Punktchen Und Anton</td>\n",
       "      <td>['Erich Kästner']</td>\n",
       "      <td>Atrium Verlag AG Zürich</td>\n",
       "      <td>['Juvenile Fiction']</td>\n",
       "      <td>2018-10-01</td>\n",
       "      <td>2018.0</td>\n",
       "      <td>2010.0</td>\n",
       "    </tr>\n",
       "  </tbody>\n",
       "</table>\n",
       "</div>"
      ],
      "text/plain": [
       "                   Title            authors                publisher  \\\n",
       "948  Punktchen Und Anton  ['Erich Kästner']  Atrium Verlag AG Zürich   \n",
       "\n",
       "               categories publishedDate  publishedYear  publishedDecade  \n",
       "948  ['Juvenile Fiction']    2018-10-01         2018.0           2010.0  "
      ]
     },
     "execution_count": 27,
     "metadata": {},
     "output_type": "execute_result"
    }
   ],
   "source": [
    "year_regex = re.compile('[^\\d]*(\\d{4})[^\\d]*')\n",
    "def extract_year(x):\n",
    "    if x:\n",
    "        result = year_regex.search(x)\n",
    "        return int(result.group(1)) if result else None\n",
    "    return None\n",
    "data = books.copy()\n",
    "data_sanitized = data.dropna(subset=['Title', 'authors', 'categories', 'publishedDate'])\n",
    "data_sanitized = data_sanitized[['Title', 'authors', 'publisher', 'categories', 'publishedDate']].copy()\n",
    "data_sanitized['publishedYear'] = data_sanitized['publishedDate'].apply(extract_year)\n",
    "data_sanitized['publishedDecade'] = data_sanitized['publishedYear'] // 10 * 10\n"
   ]
  },
  {
   "cell_type": "code",
   "execution_count": 15,
   "metadata": {
    "metadata": {}
   },
   "outputs": [],
   "source": [
    "from textblob import TextBlob\n"
   ]
  },
  {
   "cell_type": "code",
   "execution_count": 35,
   "metadata": {
    "metadata": {}
   },
   "outputs": [
    {
     "data": {
      "text/html": [
       "<div>\n",
       "<style scoped>\n",
       "    .dataframe tbody tr th:only-of-type {\n",
       "        vertical-align: middle;\n",
       "    }\n",
       "\n",
       "    .dataframe tbody tr th {\n",
       "        vertical-align: top;\n",
       "    }\n",
       "\n",
       "    .dataframe thead th {\n",
       "        text-align: right;\n",
       "    }\n",
       "</style>\n",
       "<table border=\"1\" class=\"dataframe\">\n",
       "  <thead>\n",
       "    <tr style=\"text-align: right;\">\n",
       "      <th></th>\n",
       "      <th>Title</th>\n",
       "      <th>sentimentPolarity</th>\n",
       "    </tr>\n",
       "  </thead>\n",
       "  <tbody>\n",
       "    <tr>\n",
       "      <th>6</th>\n",
       "      <td>Gold and greenstone</td>\n",
       "      <td>0.428788</td>\n",
       "    </tr>\n",
       "    <tr>\n",
       "      <th>7</th>\n",
       "      <td>Guide to Owning a Birman Cat (Popular Cat Libr...</td>\n",
       "      <td>0.572484</td>\n",
       "    </tr>\n",
       "    <tr>\n",
       "      <th>18</th>\n",
       "      <td>Natural Wonders of the World: Converting Measu...</td>\n",
       "      <td>0.425000</td>\n",
       "    </tr>\n",
       "    <tr>\n",
       "      <th>21</th>\n",
       "      <td>Sharks/Other Scary Predators (Giant Book of)</td>\n",
       "      <td>0.459375</td>\n",
       "    </tr>\n",
       "  </tbody>\n",
       "</table>\n",
       "</div>"
      ],
      "text/plain": [
       "                                                Title  sentimentPolarity\n",
       "6                                 Gold and greenstone           0.428788\n",
       "7   Guide to Owning a Birman Cat (Popular Cat Libr...           0.572484\n",
       "18  Natural Wonders of the World: Converting Measu...           0.425000\n",
       "21       Sharks/Other Scary Predators (Giant Book of)           0.459375"
      ]
     },
     "execution_count": 35,
     "metadata": {},
     "output_type": "execute_result"
    }
   ],
   "source": [
    "# Título de libros de la categoría \"Ficción\" cuyo sentimiento de reseña promedio sea esté en el percentil 90 más alto\n",
    "\n",
    "def analizar_sentimiento(texto):\n",
    "    # TextBlob devuelve valores de polaridad de sentimiento en el rango de -1 a 1\n",
    "    if isinstance(texto, str):\n",
    "        blob = TextBlob(texto)\n",
    "        sentimiento = blob.sentiment.polarity\n",
    "        return sentimiento\n",
    "    else:\n",
    "        return None  # Si el texto no es una cadena válida, devolver None\n",
    "\n",
    "# Sanitizamos el dataset para quedarnos con registros con categorías válidas\n",
    "#obsolete:data_category_sanitized = data.dropna(subset=['categories'])\n",
    "\n",
    "\n",
    "# Approach para quedarnos con registros relacionados a fiction\n",
    "data_category_fiction = data_sanitized[data_sanitized['categories'].str.contains('fiction')]\n",
    "\n",
    "# Generamos una versión reducida de reseñas que nos sirva para joinear\n",
    "rating = reviews.copy()\n",
    "rating_reduced = rating[['Title', 'review/text']]\n",
    "\n",
    "# Joineamos los libros de la categoría de Ficción con sus reseñas\n",
    "data_category_fiction_merged_with_ratings = data_category_fiction.merge(rating_reduced, on='Title', how='inner')\n",
    "\n",
    "# Calculamos el sentimiento sobre los registros de reseñas\n",
    "data_category_fiction_merged_with_ratings['sentimentPolarity'] = data_category_fiction_merged_with_ratings['review/text'].apply(analizar_sentimiento)\n",
    "\n",
    "# Agrupamos por título y calculamos el promedio de la sentimientPolarity\n",
    "\n",
    "data_category_gruped_mean_sentiment_polarity = data_category_fiction_merged_with_ratings.groupby('Title')['sentimentPolarity'].mean().reset_index()\n",
    "\n",
    "# Ordenamos los registros por polaridad de sentimiento en orden descendente\n",
    "#obsolete: data_category_fiction_sorted = data_category_gruped_mean_sentiment_polarity.sort_values(by='sentimentPolarity', ascending=False)\n",
    "\n",
    "# Calculamos el percentil 90\n",
    "percentile_90 = data_category_gruped_mean_sentiment_polarity['sentimentPolarity'].quantile(0.9)\n",
    "\n",
    "# Nos quedamos con los libros que esten en el percentil 90\n",
    "data_category_fiction_percentile_90 = data_category_gruped_mean_sentiment_polarity[data_category_gruped_mean_sentiment_polarity['sentimentPolarity'] >= percentile_90]\n",
    "\n",
    "data_category_fiction_percentile_90\n",
    "\n"
   ]
  },
  {
   "cell_type": "code",
   "execution_count": null,
   "metadata": {},
   "outputs": [],
   "source": []
  },
  {
   "cell_type": "code",
   "execution_count": 33,
   "metadata": {
    "metadata": {}
   },
   "outputs": [
    {
     "data": {
      "text/html": [
       "<div>\n",
       "<style scoped>\n",
       "    .dataframe tbody tr th:only-of-type {\n",
       "        vertical-align: middle;\n",
       "    }\n",
       "\n",
       "    .dataframe tbody tr th {\n",
       "        vertical-align: top;\n",
       "    }\n",
       "\n",
       "    .dataframe thead th {\n",
       "        text-align: right;\n",
       "    }\n",
       "</style>\n",
       "<table border=\"1\" class=\"dataframe\">\n",
       "  <thead>\n",
       "    <tr style=\"text-align: right;\">\n",
       "      <th></th>\n",
       "      <th>Title</th>\n",
       "      <th>description</th>\n",
       "      <th>authors</th>\n",
       "      <th>image</th>\n",
       "      <th>previewLink</th>\n",
       "      <th>publisher</th>\n",
       "      <th>publishedDate</th>\n",
       "      <th>infoLink</th>\n",
       "      <th>categories</th>\n",
       "      <th>ratingsCount</th>\n",
       "    </tr>\n",
       "  </thead>\n",
       "  <tbody>\n",
       "    <tr>\n",
       "      <th>948</th>\n",
       "      <td>Punktchen Und Anton</td>\n",
       "      <td>Die Geschichte einer außergewöhnlichen Freunds...</td>\n",
       "      <td>['Erich Kästner']</td>\n",
       "      <td>http://books.google.com/books/content?id=HvKkD...</td>\n",
       "      <td>http://books.google.nl/books?id=HvKkDwAAQBAJ&amp;p...</td>\n",
       "      <td>Atrium Verlag AG Zürich</td>\n",
       "      <td>2018-10-01</td>\n",
       "      <td>https://play.google.com/store/books/details?id...</td>\n",
       "      <td>['Juvenile Fiction']</td>\n",
       "      <td>NaN</td>\n",
       "    </tr>\n",
       "  </tbody>\n",
       "</table>\n",
       "</div>"
      ],
      "text/plain": [
       "                   Title                                        description  \\\n",
       "948  Punktchen Und Anton  Die Geschichte einer außergewöhnlichen Freunds...   \n",
       "\n",
       "               authors                                              image  \\\n",
       "948  ['Erich Kästner']  http://books.google.com/books/content?id=HvKkD...   \n",
       "\n",
       "                                           previewLink  \\\n",
       "948  http://books.google.nl/books?id=HvKkDwAAQBAJ&p...   \n",
       "\n",
       "                   publisher publishedDate  \\\n",
       "948  Atrium Verlag AG Zürich    2018-10-01   \n",
       "\n",
       "                                              infoLink            categories  \\\n",
       "948  https://play.google.com/store/books/details?id...  ['Juvenile Fiction']   \n",
       "\n",
       "     ratingsCount  \n",
       "948           NaN  "
      ]
     },
     "execution_count": 33,
     "metadata": {},
     "output_type": "execute_result"
    }
   ],
   "source": [
    "data[data[\"Title\"] == \"Punktchen Und Anton\"]\n"
   ]
  },
  {
   "cell_type": "code",
   "execution_count": null,
   "metadata": {},
   "outputs": [],
   "source": []
  },
  {
   "cell_type": "code",
   "execution_count": null,
   "metadata": {},
   "outputs": [],
   "source": []
  },
  {
   "cell_type": "code",
   "execution_count": null,
   "metadata": {},
   "outputs": [],
   "source": []
  },
  {
   "cell_type": "code",
   "execution_count": null,
   "metadata": {},
   "outputs": [],
   "source": []
  }
 ],
 "metadata": {
  "kernelspec": {
   "display_name": "Python 3",
   "language": "python",
   "name": "python3"
  },
  "language_info": {
   "codemirror_mode": {
    "name": "ipython",
    "version": 3
   },
   "file_extension": ".py",
   "mimetype": "text/x-python",
   "name": "python",
   "nbconvert_exporter": "python",
   "pygments_lexer": "ipython3",
   "version": "3.10.1"
  }
 },
 "nbformat": 4,
 "nbformat_minor": 2
}
