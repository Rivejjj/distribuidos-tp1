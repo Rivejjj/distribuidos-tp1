{
 "cells": [
  {
   "cell_type": "code",
   "execution_count": 1,
   "metadata": {},
   "outputs": [],
   "source": [
    "import pandas"
   ]
  },
  {
   "cell_type": "code",
   "execution_count": 2,
   "metadata": {},
   "outputs": [],
   "source": [
    "dataset = pandas.read_csv('books_data.csv')"
   ]
  },
  {
   "cell_type": "code",
   "execution_count": null,
   "metadata": {},
   "outputs": [],
   "source": [
    "dataset.head(50)"
   ]
  },
  {
   "cell_type": "code",
   "execution_count": 13,
   "metadata": {},
   "outputs": [],
   "source": [
    "def get_year_regex(text):\n",
    "    matches = []\n",
    "    if text == \"\":\n",
    "        return None\n",
    "    \n",
    "    i = 0\n",
    "    while i < len(text):\n",
    "        if text[i].isdigit():\n",
    "            digits = \"\"\n",
    "            while i < len(text) and text[i].isdigit() and len(digits) < 4:\n",
    "                digits += text[i]\n",
    "                i += 1\n",
    "            if len(digits) == 4:\n",
    "                matches.append(int(digits))\n",
    "        else:\n",
    "            i += 1\n",
    "            \n",
    "    return matches\n",
    "            "
   ]
  },
  {
   "cell_type": "code",
   "execution_count": 17,
   "metadata": {},
   "outputs": [
    {
     "name": "stdout",
     "output_type": "stream",
     "text": [
      "[2021]\n"
     ]
    }
   ],
   "source": [
    "text = \"20-25-2021\"\n",
    "print(get_year_regex(text))"
   ]
  }
 ],
 "metadata": {
  "kernelspec": {
   "display_name": "Python 3",
   "language": "python",
   "name": "python3"
  },
  "language_info": {
   "codemirror_mode": {
    "name": "ipython",
    "version": 3
   },
   "file_extension": ".py",
   "mimetype": "text/x-python",
   "name": "python",
   "nbconvert_exporter": "python",
   "pygments_lexer": "ipython3",
   "version": "3.11.4"
  }
 },
 "nbformat": 4,
 "nbformat_minor": 2
}
